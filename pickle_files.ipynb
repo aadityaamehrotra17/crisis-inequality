{
 "cells": [
  {
   "cell_type": "code",
   "execution_count": 1,
   "metadata": {},
   "outputs": [],
   "source": [
    "import os, pickle, PyPDF2\n",
    "\n",
    "folder_paths = ['./CEM', './CDL', './CEDRES', './NJESS']\n",
    "\n",
    "def extract(path):\n",
    "    pdf_text = \"\"\n",
    "    with open(path, 'rb') as file:\n",
    "        reader = PyPDF2.PdfReader(file)\n",
    "        for page in reader.pages:\n",
    "            pdf_text += page.extract_text()\n",
    "    return pdf_text\n",
    "\n",
    "def save(text, path):\n",
    "    with open(path, 'wb') as pickle_file:\n",
    "        pickle.dump(text, pickle_file)\n",
    "\n",
    "for folder in folder_paths:\n",
    "    text = ''\n",
    "    for file in os.listdir(folder):\n",
    "        if file.endswith('.pdf'):\n",
    "            path = os.path.join(folder, file)\n",
    "            text += extract(path)\n",
    "\n",
    "    save(text, folder[2:] + '.pickle')\n"
   ]
  }
 ],
 "metadata": {
  "kernelspec": {
   "display_name": "Python 3",
   "language": "python",
   "name": "python3"
  },
  "language_info": {
   "codemirror_mode": {
    "name": "ipython",
    "version": 3
   },
   "file_extension": ".py",
   "mimetype": "text/x-python",
   "name": "python",
   "nbconvert_exporter": "python",
   "pygments_lexer": "ipython3",
   "version": "3.11.9"
  }
 },
 "nbformat": 4,
 "nbformat_minor": 2
}
